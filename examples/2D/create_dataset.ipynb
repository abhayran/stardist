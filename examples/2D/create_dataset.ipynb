{
 "cells": [
  {
   "cell_type": "code",
   "execution_count": 1,
   "metadata": {},
   "outputs": [],
   "source": [
    "import os\n",
    "from PIL import Image\n",
    "import matplotlib.pyplot as plt\n",
    "import numpy as np\n",
    "import scipy.io as sio\n",
    "from typing import Dict, List, Tuple"
   ]
  },
  {
   "cell_type": "code",
   "execution_count": 2,
   "metadata": {},
   "outputs": [],
   "source": [
    "def map_array(array: np.ndarray, mapping: Dict[int, int]) -> np.ndarray:\n",
    "    unique, inv = np.unique(array, return_inverse=True)\n",
    "    return np.array([mapping[x] for x in unique])[inv].reshape(array.shape)\n",
    "\n",
    "\n",
    "def pad_image(array: np.ndarray, tile_size: int) -> np.ndarray:\n",
    "    if array.shape[0] == tile_size and array.shape[1] == tile_size:\n",
    "        return array\n",
    "    padded = 255 * np.ones((tile_size, tile_size, 3))\n",
    "    padded = padded.astype(array.dtype)\n",
    "    padded[:array.shape[0], :array.shape[1], :] = array\n",
    "    return padded\n",
    "\n",
    "\n",
    "def pad_mask(array: np.ndarray, tile_size: int) -> np.ndarray:\n",
    "    if array.shape[0] == tile_size and array.shape[1] == tile_size:\n",
    "        return array\n",
    "    padded = np.zeros((tile_size, tile_size), dtype=array.dtype)\n",
    "    padded[:array.shape[0], :array.shape[1]] = array\n",
    "    return padded\n",
    "\n",
    "\n",
    "def correct_mask_ids(array: np.ndarray) -> np.ndarray:\n",
    "    mapping = {elem: idx + 1 for idx, elem in enumerate(set(array[np.nonzero(array > 0)]))}\n",
    "    mapping[0] = 0\n",
    "    return map_array(array, mapping)\n",
    "\n",
    "\n",
    "def parse_lizard_instance(image_path: str, label_path: str, tile_size: int) -> Tuple[List[np.ndarray], List[np.ndarray]]:\n",
    "    tiles, tile_masks = [], []\n",
    "    image = np.array(Image.open(image_path))\n",
    "    label = sio.loadmat(label_path)\n",
    "    counter = 1\n",
    "    id_dict = {0: 0}\n",
    "    for _id, _class in zip(np.squeeze(label[\"id\"]), np.squeeze(label[\"class\"])):\n",
    "        if _class == 1:\n",
    "            id_dict[_id] = counter\n",
    "            counter += 1\n",
    "        else:\n",
    "            id_dict[_id] = 0\n",
    "    mapped_instance_mask = map_array(label[\"inst_map\"], id_dict)\n",
    "    if not np.any(mapped_instance_mask):\n",
    "        return tiles, tile_masks\n",
    "    r_idx, c_idx = np.nonzero(mapped_instance_mask)\n",
    "    r_min, r_max, c_min, c_max = int(np.min(r_idx)), int(np.max(r_idx)), int(np.min(c_idx)), int(np.max(c_idx))\n",
    "    num_tiles_r = (r_max - r_min) // tile_size + ((r_max - r_min) % tile_size != 0)\n",
    "    num_tiles_c = (c_max - c_min) // tile_size + ((c_max - c_min) % tile_size != 0)\n",
    "    for _r in range(num_tiles_r):\n",
    "        for _c in range(num_tiles_c):\n",
    "            tile_mask = mapped_instance_mask[_r * tile_size: (_r + 1) * tile_size, _c * tile_size: (_c + 1) * tile_size]\n",
    "            if not np.any(tile_mask):\n",
    "                continue\n",
    "            tile_masks.append(pad_mask(correct_mask_ids(tile_mask), tile_size))\n",
    "            tile = image[_r * tile_size: (_r + 1) * tile_size, _c * tile_size: (_c + 1) * tile_size, :]\n",
    "            tiles.append(pad_image(tile, tile_size))\n",
    "    return tiles, tile_masks"
   ]
  },
  {
   "cell_type": "code",
   "execution_count": 3,
   "metadata": {},
   "outputs": [],
   "source": [
    "image_dirs = [\n",
    "    r\"C:\\Users\\abdul\\Desktop\\TUM\\thesis\\lizard\\lizard_images\\train\",\n",
    "    r\"C:\\Users\\abdul\\Desktop\\TUM\\thesis\\lizard\\lizard_images\\val\",\n",
    "]\n",
    "label_dir = r\"C:\\Users\\abdul\\Desktop\\TUM\\thesis\\lizard\\lizard_labels\\Labels\"\n",
    "data = dict()\n",
    "for image_dir in image_dirs:\n",
    "    for f in os.listdir(image_dir):\n",
    "        tiles, masks = parse_lizard_instance(\n",
    "            os.path.join(image_dir, f),\n",
    "            os.path.join(label_dir, f.replace(\".png\", \".mat\")),\n",
    "            256,\n",
    "        )\n",
    "        if tiles and masks:\n",
    "            data[f] = {\n",
    "                \"tiles\": tiles,\n",
    "                \"masks\": masks,\n",
    "            }"
   ]
  },
  {
   "cell_type": "code",
   "execution_count": 4,
   "metadata": {},
   "outputs": [
    {
     "name": "stdout",
     "output_type": "stream",
     "text": [
      "710 710\n",
      "174 174\n"
     ]
    }
   ],
   "source": [
    "# apply 80% - 20% split\n",
    "\n",
    "num_neutrophils = [(key, sum(np.max(mask) for mask in value[\"masks\"])) for key, value in data.items()]\n",
    "num_neutrophils.sort(key=lambda x: x[1], reverse=True)\n",
    "test_file_names = list()\n",
    "for i in range(len(num_neutrophils) // 5 + (len(num_neutrophils) % 5 != 0)):\n",
    "    tmp = num_neutrophils[i * 5 : (i + 1) * 5]\n",
    "    if len(tmp) >= 3:\n",
    "        test_file_names.append(tmp[2][0])\n",
    "\n",
    "train_images, train_masks, test_images, test_masks = [], [], [], []\n",
    "for key in data:\n",
    "    tiles, masks = data[key][\"tiles\"], data[key][\"masks\"]\n",
    "    if key in test_file_names:\n",
    "        test_images.extend(tiles)\n",
    "        test_masks.extend(masks)\n",
    "    else:\n",
    "        train_images.extend(tiles)\n",
    "        train_masks.extend(masks)\n",
    "\n",
    "print(len(train_images), len(train_masks))\n",
    "print(len(test_images), len(test_masks))"
   ]
  },
  {
   "cell_type": "code",
   "execution_count": 5,
   "metadata": {},
   "outputs": [],
   "source": [
    "# save images\n",
    "\n",
    "for idx, (image, mask) in enumerate(zip(train_images, train_masks)):\n",
    "    Image.fromarray(image).save(os.path.join(\"data\", \"lizard\", \"train\", \"images\", f\"image_{idx}.tif\"))\n",
    "    Image.fromarray(mask).save(os.path.join(\"data\", \"lizard\", \"train\", \"masks\", f\"image_{idx}.tif\"))\n",
    "\n",
    "for idx, (image, mask) in enumerate(zip(test_images, test_masks)):\n",
    "    Image.fromarray(image).save(os.path.join(\"data\", \"lizard\", \"test\", \"images\", f\"image_{idx}.tif\"))\n",
    "    Image.fromarray(mask).save(os.path.join(\"data\", \"lizard\", \"test\", \"masks\", f\"image_{idx}.tif\"))\n"
   ]
  }
 ],
 "metadata": {
  "kernelspec": {
   "display_name": "venv",
   "language": "python",
   "name": "python3"
  },
  "language_info": {
   "codemirror_mode": {
    "name": "ipython",
    "version": 3
   },
   "file_extension": ".py",
   "mimetype": "text/x-python",
   "name": "python",
   "nbconvert_exporter": "python",
   "pygments_lexer": "ipython3",
   "version": "3.9.11"
  },
  "orig_nbformat": 4
 },
 "nbformat": 4,
 "nbformat_minor": 2
}
